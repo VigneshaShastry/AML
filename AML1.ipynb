{
 "cells": [
  {
   "cell_type": "code",
   "execution_count": null,
   "metadata": {},
   "outputs": [],
   "source": [
    "class MyNearestCentroid:\n",
    "    def fit(self, X, y):\n",
    "        self.labels = np.unique(y)\n",
    "        self.centroids = []\n",
    "        for lbl in self.labels:\n",
    "            y_lbl = y[y==lbl]\n",
    "            X_lbl = X[y==lbl]\n",
    "            centroid = np.mean(X_lbl, axis=0)\n",
    "            self.centroids.append(centroid)\n",
    "\n",
    "\n",
    "    def predict(self, X):\n",
    "        num_records = X.shape[0]\n",
    "        y_pred_distances = np.empty((num_records, len(self.labels)))\n",
    "        for i in np.arange(0,num_records):\n",
    "            for j, centroid in enumerate(self.centroids):\n",
    "                y_pred_distances[i, j] = np.linalg.norm(X[i] - centroid, axis=0)\n",
    "\n",
    "        y_pred =  np.argmin(y_pred_distances, axis=1)\n",
    "        return y_pred\n",
    "    \n",
    "    \n",
    "    def predict_vectorized(self, X):\n",
    "        y_pred_distances = np.linalg.norm(X[:,np.newaxis] - self.centroid, axis=2)\n",
    "        y_pred =  np.argmin(y_pred_distances, axis=1)\n",
    "        return y_pred "
   ]
  }
 ],
 "metadata": {
  "language_info": {
   "name": "python"
  },
  "orig_nbformat": 4
 },
 "nbformat": 4,
 "nbformat_minor": 2
}
